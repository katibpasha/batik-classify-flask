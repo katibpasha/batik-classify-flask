{
 "cells": [
  {
   "cell_type": "markdown",
   "id": "160782a9",
   "metadata": {},
   "source": [
    "### Titan Bagus Bramantyo"
   ]
  },
  {
   "cell_type": "markdown",
   "id": "9d9b28e1",
   "metadata": {},
   "source": [
    "Final Project to classify batik style using LBP (Local Binary Pattern) and KNN (K-Nearest Neighboor) algorithms."
   ]
  },
  {
   "cell_type": "markdown",
   "id": "f1d06998",
   "metadata": {},
   "source": [
    "#### ✅ Importing library"
   ]
  },
  {
   "cell_type": "code",
   "execution_count": 48,
   "id": "106da73e",
   "metadata": {},
   "outputs": [],
   "source": [
    "import pandas as pd\n",
    "import numpy as np\n",
    "import cv2 as cv\n",
    "from skimage.feature import local_binary_pattern\n",
    "import matplotlib.pyplot as plt\n",
    "from sklearn.neighbors import KNeighborsClassifier\n",
    "from sklearn.naive_bayes import MultinomialNB"
   ]
  },
  {
   "cell_type": "markdown",
   "id": "bd6302c9",
   "metadata": {},
   "source": [
    "#### ✅ Config for LBP"
   ]
  },
  {
   "cell_type": "code",
   "execution_count": 49,
   "id": "ad4bbdfa",
   "metadata": {},
   "outputs": [],
   "source": [
    "radius = 2\n",
    "n_points = 8 * radius\n",
    "METHOD = 'uniform'\n",
    "\n",
    "# make function of LBP\n",
    "def getdataTest(img):\n",
    "    img_lbp = local_binary_pattern(img, n_points, radius, METHOD)\n",
    "    img_lbp_hist,bins = np.histogram(img_lbp.ravel(),256,[0,256])\n",
    "    img_lbp_hist = np.transpose(img_lbp_hist[0:256,np.newaxis])\n",
    "    return img_lbp_hist\n",
    "\n",
    "\n",
    "# load image file\n",
    "## ---- ceplok style\n",
    "cp1_lbp = local_binary_pattern(cv.imread('dataset/training/ceplok-style/TC1.jpg', cv.IMREAD_GRAYSCALE), n_points, radius, METHOD)\n",
    "cp2_lbp = local_binary_pattern(cv.imread('dataset/training/ceplok-style/TC2.jpg', cv.IMREAD_GRAYSCALE), n_points, radius, METHOD)\n",
    "cp3_lbp = local_binary_pattern(cv.imread('dataset/training/ceplok-style/TC3.jpg', cv.IMREAD_GRAYSCALE), n_points, radius, METHOD)\n",
    "cp4_lbp = local_binary_pattern(cv.imread('dataset/training/ceplok-style/TC4.jpg', cv.IMREAD_GRAYSCALE), n_points, radius, METHOD)\n",
    "cp5_lbp = local_binary_pattern(cv.imread('dataset/training/ceplok-style/TC5.jpg', cv.IMREAD_GRAYSCALE), n_points, radius, METHOD)\n",
    "cp6_lbp = local_binary_pattern(cv.imread('dataset/training/ceplok-style/TC6.jpg', cv.IMREAD_GRAYSCALE), n_points, radius, METHOD)\n",
    "cp7_lbp = local_binary_pattern(cv.imread('dataset/training/ceplok-style/TC7.jpg', cv.IMREAD_GRAYSCALE), n_points, radius, METHOD)\n",
    "cp8_lbp = local_binary_pattern(cv.imread('dataset/training/ceplok-style/TC8.jpg', cv.IMREAD_GRAYSCALE), n_points, radius, METHOD)\n",
    "cp9_lbp = local_binary_pattern(cv.imread('dataset/training/ceplok-style/TC9.jpg', cv.IMREAD_GRAYSCALE), n_points, radius, METHOD)\n",
    "cp10_lbp = local_binary_pattern(cv.imread('dataset/training/ceplok-style/TC10.jpg', cv.IMREAD_GRAYSCALE), n_points, radius, METHOD)\n",
    "cp11_lbp = local_binary_pattern(cv.imread('dataset/training/ceplok-style/TC11.jpg', cv.IMREAD_GRAYSCALE), n_points, radius, METHOD)\n",
    "cp12_lbp = local_binary_pattern(cv.imread('dataset/training/ceplok-style/TC12.jpg', cv.IMREAD_GRAYSCALE), n_points, radius, METHOD)\n",
    "cp13_lbp = local_binary_pattern(cv.imread('dataset/training/ceplok-style/TC13.jpg', cv.IMREAD_GRAYSCALE), n_points, radius, METHOD)\n",
    "cp14_lbp = local_binary_pattern(cv.imread('dataset/training/ceplok-style/TC14.jpg', cv.IMREAD_GRAYSCALE), n_points, radius, METHOD)\n",
    "cp15_lbp = local_binary_pattern(cv.imread('dataset/training/ceplok-style/TC15.jpg', cv.IMREAD_GRAYSCALE), n_points, radius, METHOD)\n",
    "cp16_lbp = local_binary_pattern(cv.imread('dataset/training/ceplok-style/TC16.jpg', cv.IMREAD_GRAYSCALE), n_points, radius, METHOD)\n",
    "cp17_lbp = local_binary_pattern(cv.imread('dataset/training/ceplok-style/TC17.jpg', cv.IMREAD_GRAYSCALE), n_points, radius, METHOD)\n",
    "cp18_lbp = local_binary_pattern(cv.imread('dataset/training/ceplok-style/TC18.jpg', cv.IMREAD_GRAYSCALE), n_points, radius, METHOD)\n",
    "cp19_lbp = local_binary_pattern(cv.imread('dataset/training/ceplok-style/TC19.jpg', cv.IMREAD_GRAYSCALE), n_points, radius, METHOD)\n",
    "cp20_lbp = local_binary_pattern(cv.imread('dataset/training/ceplok-style/TC20.jpg', cv.IMREAD_GRAYSCALE), n_points, radius, METHOD)\n",
    "cp21_lbp = local_binary_pattern(cv.imread('dataset/training/ceplok-style/TC21.jpg', cv.IMREAD_GRAYSCALE), n_points, radius, METHOD)\n",
    "cp22_lbp = local_binary_pattern(cv.imread('dataset/training/ceplok-style/TC22.jpg', cv.IMREAD_GRAYSCALE), n_points, radius, METHOD)\n",
    "cp23_lbp = local_binary_pattern(cv.imread('dataset/training/ceplok-style/TC23.jpg', cv.IMREAD_GRAYSCALE), n_points, radius, METHOD)\n",
    "cp24_lbp = local_binary_pattern(cv.imread('dataset/training/ceplok-style/TC24.jpg', cv.IMREAD_GRAYSCALE), n_points, radius, METHOD)\n",
    "cp25_lbp = local_binary_pattern(cv.imread('dataset/training/ceplok-style/TC25.jpg', cv.IMREAD_GRAYSCALE), n_points, radius, METHOD)\n",
    "cp26_lbp = local_binary_pattern(cv.imread('dataset/training/ceplok-style/TC26.jpg', cv.IMREAD_GRAYSCALE), n_points, radius, METHOD)\n",
    "cp27_lbp = local_binary_pattern(cv.imread('dataset/training/ceplok-style/TC27.jpg', cv.IMREAD_GRAYSCALE), n_points, radius, METHOD)\n",
    "cp28_lbp = local_binary_pattern(cv.imread('dataset/training/ceplok-style/TC28.jpg', cv.IMREAD_GRAYSCALE), n_points, radius, METHOD)\n",
    "cp29_lbp = local_binary_pattern(cv.imread('dataset/training/ceplok-style/TC29.jpg', cv.IMREAD_GRAYSCALE), n_points, radius, METHOD)\n",
    "cp30_lbp = local_binary_pattern(cv.imread('dataset/training/ceplok-style/TC30.jpg', cv.IMREAD_GRAYSCALE), n_points, radius, METHOD)\n",
    "\n",
    "## ---- parang style\n",
    "pr1_lbp = local_binary_pattern(cv.imread('dataset/training/parang-style/TP1.jpg', cv.IMREAD_GRAYSCALE), n_points, radius, METHOD)\n",
    "pr2_lbp = local_binary_pattern(cv.imread('dataset/training/parang-style/TP2.jpg', cv.IMREAD_GRAYSCALE), n_points, radius, METHOD)\n",
    "pr3_lbp = local_binary_pattern(cv.imread('dataset/training/parang-style/TP3.jpg', cv.IMREAD_GRAYSCALE), n_points, radius, METHOD)\n",
    "pr4_lbp = local_binary_pattern(cv.imread('dataset/training/parang-style/TP4.jpg', cv.IMREAD_GRAYSCALE), n_points, radius, METHOD)\n",
    "pr5_lbp = local_binary_pattern(cv.imread('dataset/training/parang-style/TP5.jpg', cv.IMREAD_GRAYSCALE), n_points, radius, METHOD)\n",
    "pr6_lbp = local_binary_pattern(cv.imread('dataset/training/parang-style/TP6.jpg', cv.IMREAD_GRAYSCALE), n_points, radius, METHOD)\n",
    "pr7_lbp = local_binary_pattern(cv.imread('dataset/training/parang-style/TP7.jpg', cv.IMREAD_GRAYSCALE), n_points, radius, METHOD)\n",
    "pr8_lbp = local_binary_pattern(cv.imread('dataset/training/parang-style/TP8.jpg', cv.IMREAD_GRAYSCALE), n_points, radius, METHOD)\n",
    "pr9_lbp = local_binary_pattern(cv.imread('dataset/training/parang-style/TP9.jpg', cv.IMREAD_GRAYSCALE), n_points, radius, METHOD)\n",
    "pr10_lbp = local_binary_pattern(cv.imread('dataset/training/parang-style/TP10.jpg', cv.IMREAD_GRAYSCALE), n_points, radius, METHOD)\n",
    "pr11_lbp = local_binary_pattern(cv.imread('dataset/training/parang-style/TP11.jpg', cv.IMREAD_GRAYSCALE), n_points, radius, METHOD)\n",
    "pr12_lbp = local_binary_pattern(cv.imread('dataset/training/parang-style/TP12.jpg', cv.IMREAD_GRAYSCALE), n_points, radius, METHOD)\n",
    "pr13_lbp = local_binary_pattern(cv.imread('dataset/training/parang-style/TP13.jpg', cv.IMREAD_GRAYSCALE), n_points, radius, METHOD)\n",
    "pr14_lbp = local_binary_pattern(cv.imread('dataset/training/parang-style/TP14.jpg', cv.IMREAD_GRAYSCALE), n_points, radius, METHOD)\n",
    "pr15_lbp = local_binary_pattern(cv.imread('dataset/training/parang-style/TP15.jpg', cv.IMREAD_GRAYSCALE), n_points, radius, METHOD)\n",
    "pr16_lbp = local_binary_pattern(cv.imread('dataset/training/parang-style/TP16.jpg', cv.IMREAD_GRAYSCALE), n_points, radius, METHOD)\n",
    "pr17_lbp = local_binary_pattern(cv.imread('dataset/training/parang-style/TP17.jpg', cv.IMREAD_GRAYSCALE), n_points, radius, METHOD)\n",
    "pr18_lbp = local_binary_pattern(cv.imread('dataset/training/parang-style/TP18.jpg', cv.IMREAD_GRAYSCALE), n_points, radius, METHOD)\n",
    "pr19_lbp = local_binary_pattern(cv.imread('dataset/training/parang-style/TP19.jpg', cv.IMREAD_GRAYSCALE), n_points, radius, METHOD)\n",
    "pr20_lbp = local_binary_pattern(cv.imread('dataset/training/parang-style/TP20.jpg', cv.IMREAD_GRAYSCALE), n_points, radius, METHOD)\n",
    "pr21_lbp = local_binary_pattern(cv.imread('dataset/training/parang-style/TP21.jpg', cv.IMREAD_GRAYSCALE), n_points, radius, METHOD)\n",
    "pr22_lbp = local_binary_pattern(cv.imread('dataset/training/parang-style/TP22.jpg', cv.IMREAD_GRAYSCALE), n_points, radius, METHOD)\n",
    "pr23_lbp = local_binary_pattern(cv.imread('dataset/training/parang-style/TP23.jpg', cv.IMREAD_GRAYSCALE), n_points, radius, METHOD)\n",
    "pr24_lbp = local_binary_pattern(cv.imread('dataset/training/parang-style/TP24.jpg', cv.IMREAD_GRAYSCALE), n_points, radius, METHOD)\n",
    "pr25_lbp = local_binary_pattern(cv.imread('dataset/training/parang-style/TP25.jpg', cv.IMREAD_GRAYSCALE), n_points, radius, METHOD)\n",
    "pr26_lbp = local_binary_pattern(cv.imread('dataset/training/parang-style/TP26.jpg', cv.IMREAD_GRAYSCALE), n_points, radius, METHOD)\n",
    "pr27_lbp = local_binary_pattern(cv.imread('dataset/training/parang-style/TP27.jpg', cv.IMREAD_GRAYSCALE), n_points, radius, METHOD)\n",
    "pr28_lbp = local_binary_pattern(cv.imread('dataset/training/parang-style/TP28.jpg', cv.IMREAD_GRAYSCALE), n_points, radius, METHOD)\n",
    "pr29_lbp = local_binary_pattern(cv.imread('dataset/training/parang-style/TP29.jpg', cv.IMREAD_GRAYSCALE), n_points, radius, METHOD)\n",
    "pr30_lbp = local_binary_pattern(cv.imread('dataset/training/parang-style/TP30.jpg', cv.IMREAD_GRAYSCALE), n_points, radius, METHOD)\n",
    "\n",
    "## -- ceplok style\n",
    "cp1_lbp_hist,bins = np.histogram(cp1_lbp.ravel(),256,[0,256])\n",
    "cp2_lbp_hist,bins = np.histogram(cp2_lbp.ravel(),256,[0,256])\n",
    "cp3_lbp_hist,bins = np.histogram(cp3_lbp.ravel(),256,[0,256])\n",
    "cp4_lbp_hist,bins = np.histogram(cp4_lbp.ravel(),256,[0,256])\n",
    "cp5_lbp_hist,bins = np.histogram(cp5_lbp.ravel(),256,[0,256])\n",
    "cp6_lbp_hist,bins = np.histogram(cp6_lbp.ravel(),256,[0,256])\n",
    "cp7_lbp_hist,bins = np.histogram(cp7_lbp.ravel(),256,[0,256])\n",
    "cp8_lbp_hist,bins = np.histogram(cp8_lbp.ravel(),256,[0,256])\n",
    "cp9_lbp_hist,bins = np.histogram(cp9_lbp.ravel(),256,[0,256])\n",
    "cp10_lbp_hist,bins = np.histogram(cp10_lbp.ravel(),256,[0,256])\n",
    "cp11_lbp_hist,bins = np.histogram(cp11_lbp.ravel(),256,[0,256])\n",
    "cp12_lbp_hist,bins = np.histogram(cp12_lbp.ravel(),256,[0,256])\n",
    "cp13_lbp_hist,bins = np.histogram(cp13_lbp.ravel(),256,[0,256])\n",
    "cp14_lbp_hist,bins = np.histogram(cp14_lbp.ravel(),256,[0,256])\n",
    "cp15_lbp_hist,bins = np.histogram(cp15_lbp.ravel(),256,[0,256])\n",
    "cp16_lbp_hist,bins = np.histogram(cp16_lbp.ravel(),256,[0,256])\n",
    "cp17_lbp_hist,bins = np.histogram(cp17_lbp.ravel(),256,[0,256])\n",
    "cp18_lbp_hist,bins = np.histogram(cp18_lbp.ravel(),256,[0,256])\n",
    "cp19_lbp_hist,bins = np.histogram(cp19_lbp.ravel(),256,[0,256])\n",
    "cp20_lbp_hist,bins = np.histogram(cp20_lbp.ravel(),256,[0,256])\n",
    "cp21_lbp_hist,bins = np.histogram(cp21_lbp.ravel(),256,[0,256])\n",
    "cp22_lbp_hist,bins = np.histogram(cp22_lbp.ravel(),256,[0,256])\n",
    "cp23_lbp_hist,bins = np.histogram(cp23_lbp.ravel(),256,[0,256])\n",
    "cp24_lbp_hist,bins = np.histogram(cp24_lbp.ravel(),256,[0,256])\n",
    "cp25_lbp_hist,bins = np.histogram(cp25_lbp.ravel(),256,[0,256])\n",
    "cp26_lbp_hist,bins = np.histogram(cp26_lbp.ravel(),256,[0,256])\n",
    "cp27_lbp_hist,bins = np.histogram(cp27_lbp.ravel(),256,[0,256])\n",
    "cp28_lbp_hist,bins = np.histogram(cp28_lbp.ravel(),256,[0,256])\n",
    "cp29_lbp_hist,bins = np.histogram(cp29_lbp.ravel(),256,[0,256])\n",
    "cp30_lbp_hist,bins = np.histogram(cp30_lbp.ravel(),256,[0,256])\n",
    "\n",
    "## ---- parang style\n",
    "pr1_lbp_hist,bins = np.histogram(pr1_lbp.ravel(),256,[0,256])\n",
    "pr2_lbp_hist,bins = np.histogram(pr2_lbp.ravel(),256,[0,256])\n",
    "pr3_lbp_hist,bins = np.histogram(pr3_lbp.ravel(),256,[0,256])\n",
    "pr4_lbp_hist,bins = np.histogram(pr4_lbp.ravel(),256,[0,256])\n",
    "pr5_lbp_hist,bins = np.histogram(pr5_lbp.ravel(),256,[0,256])\n",
    "pr6_lbp_hist,bins = np.histogram(pr6_lbp.ravel(),256,[0,256])\n",
    "pr7_lbp_hist,bins = np.histogram(pr7_lbp.ravel(),256,[0,256])\n",
    "pr8_lbp_hist,bins = np.histogram(pr8_lbp.ravel(),256,[0,256])\n",
    "pr9_lbp_hist,bins = np.histogram(pr9_lbp.ravel(),256,[0,256])\n",
    "pr10_lbp_hist,bins = np.histogram(pr10_lbp.ravel(),256,[0,256])\n",
    "pr11_lbp_hist,bins = np.histogram(pr11_lbp.ravel(),256,[0,256])\n",
    "pr12_lbp_hist,bins = np.histogram(pr12_lbp.ravel(),256,[0,256])\n",
    "pr13_lbp_hist,bins = np.histogram(pr13_lbp.ravel(),256,[0,256])\n",
    "pr14_lbp_hist,bins = np.histogram(pr14_lbp.ravel(),256,[0,256])\n",
    "pr15_lbp_hist,bins = np.histogram(pr15_lbp.ravel(),256,[0,256])\n",
    "pr16_lbp_hist,bins = np.histogram(pr16_lbp.ravel(),256,[0,256])\n",
    "pr17_lbp_hist,bins = np.histogram(pr17_lbp.ravel(),256,[0,256])\n",
    "pr18_lbp_hist,bins = np.histogram(pr18_lbp.ravel(),256,[0,256])\n",
    "pr19_lbp_hist,bins = np.histogram(pr19_lbp.ravel(),256,[0,256])\n",
    "pr20_lbp_hist,bins = np.histogram(pr20_lbp.ravel(),256,[0,256])\n",
    "pr21_lbp_hist,bins = np.histogram(pr21_lbp.ravel(),256,[0,256])\n",
    "pr22_lbp_hist,bins = np.histogram(pr22_lbp.ravel(),256,[0,256])\n",
    "pr23_lbp_hist,bins = np.histogram(pr23_lbp.ravel(),256,[0,256])\n",
    "pr24_lbp_hist,bins = np.histogram(pr24_lbp.ravel(),256,[0,256])\n",
    "pr25_lbp_hist,bins = np.histogram(pr25_lbp.ravel(),256,[0,256])\n",
    "pr26_lbp_hist,bins = np.histogram(pr26_lbp.ravel(),256,[0,256])\n",
    "pr27_lbp_hist,bins = np.histogram(pr27_lbp.ravel(),256,[0,256])\n",
    "pr28_lbp_hist,bins = np.histogram(pr28_lbp.ravel(),256,[0,256])\n",
    "pr29_lbp_hist,bins = np.histogram(pr29_lbp.ravel(),256,[0,256])\n",
    "pr30_lbp_hist,bins = np.histogram(pr30_lbp.ravel(),256,[0,256])\n",
    "\n",
    "# transpose from LBP -- ceplok style\n",
    "cp1_lbp_hist=np.transpose(cp1_lbp_hist[0:256,np.newaxis])\n",
    "cp2_lbp_hist=np.transpose(cp2_lbp_hist[0:256,np.newaxis])\n",
    "cp3_lbp_hist=np.transpose(cp3_lbp_hist[0:256,np.newaxis])\n",
    "cp4_lbp_hist=np.transpose(cp4_lbp_hist[0:256,np.newaxis])\n",
    "cp5_lbp_hist=np.transpose(cp5_lbp_hist[0:256,np.newaxis])\n",
    "cp6_lbp_hist=np.transpose(cp6_lbp_hist[0:256,np.newaxis])\n",
    "cp7_lbp_hist=np.transpose(cp7_lbp_hist[0:256,np.newaxis])\n",
    "cp8_lbp_hist=np.transpose(cp8_lbp_hist[0:256,np.newaxis])\n",
    "cp9_lbp_hist=np.transpose(cp9_lbp_hist[0:256,np.newaxis])\n",
    "cp10_lbp_hist=np.transpose(cp10_lbp_hist[0:256,np.newaxis])\n",
    "cp11_lbp_hist=np.transpose(cp11_lbp_hist[0:256,np.newaxis])\n",
    "cp12_lbp_hist=np.transpose(cp12_lbp_hist[0:256,np.newaxis])\n",
    "cp13_lbp_hist=np.transpose(cp13_lbp_hist[0:256,np.newaxis])\n",
    "cp14_lbp_hist=np.transpose(cp14_lbp_hist[0:256,np.newaxis])\n",
    "cp15_lbp_hist=np.transpose(cp15_lbp_hist[0:256,np.newaxis])\n",
    "cp16_lbp_hist=np.transpose(cp16_lbp_hist[0:256,np.newaxis])\n",
    "cp17_lbp_hist=np.transpose(cp17_lbp_hist[0:256,np.newaxis])\n",
    "cp18_lbp_hist=np.transpose(cp18_lbp_hist[0:256,np.newaxis])\n",
    "cp19_lbp_hist=np.transpose(cp19_lbp_hist[0:256,np.newaxis])\n",
    "cp20_lbp_hist=np.transpose(cp20_lbp_hist[0:256,np.newaxis])\n",
    "cp21_lbp_hist=np.transpose(cp21_lbp_hist[0:256,np.newaxis])\n",
    "cp22_lbp_hist=np.transpose(cp22_lbp_hist[0:256,np.newaxis])\n",
    "cp23_lbp_hist=np.transpose(cp23_lbp_hist[0:256,np.newaxis])\n",
    "cp24_lbp_hist=np.transpose(cp24_lbp_hist[0:256,np.newaxis])\n",
    "cp25_lbp_hist=np.transpose(cp25_lbp_hist[0:256,np.newaxis])\n",
    "cp26_lbp_hist=np.transpose(cp26_lbp_hist[0:256,np.newaxis])\n",
    "cp27_lbp_hist=np.transpose(cp27_lbp_hist[0:256,np.newaxis])\n",
    "cp28_lbp_hist=np.transpose(cp28_lbp_hist[0:256,np.newaxis])\n",
    "cp29_lbp_hist=np.transpose(cp29_lbp_hist[0:256,np.newaxis])\n",
    "cp30_lbp_hist=np.transpose(cp30_lbp_hist[0:256,np.newaxis])\n",
    "\n",
    "# transpose from LBP -- parang style\n",
    "pr1_lbp_hist=np.transpose(pr1_lbp_hist[0:256,np.newaxis])\n",
    "pr2_lbp_hist=np.transpose(pr2_lbp_hist[0:256,np.newaxis])\n",
    "pr3_lbp_hist=np.transpose(pr3_lbp_hist[0:256,np.newaxis])\n",
    "pr4_lbp_hist=np.transpose(pr4_lbp_hist[0:256,np.newaxis])\n",
    "pr5_lbp_hist=np.transpose(pr5_lbp_hist[0:256,np.newaxis])\n",
    "pr6_lbp_hist=np.transpose(pr6_lbp_hist[0:256,np.newaxis])\n",
    "pr7_lbp_hist=np.transpose(pr7_lbp_hist[0:256,np.newaxis])\n",
    "pr8_lbp_hist=np.transpose(pr8_lbp_hist[0:256,np.newaxis])\n",
    "pr9_lbp_hist=np.transpose(pr9_lbp_hist[0:256,np.newaxis])\n",
    "pr10_lbp_hist=np.transpose(pr10_lbp_hist[0:256,np.newaxis])\n",
    "pr11_lbp_hist=np.transpose(pr11_lbp_hist[0:256,np.newaxis])\n",
    "pr12_lbp_hist=np.transpose(pr12_lbp_hist[0:256,np.newaxis])\n",
    "pr13_lbp_hist=np.transpose(pr13_lbp_hist[0:256,np.newaxis])\n",
    "pr14_lbp_hist=np.transpose(pr14_lbp_hist[0:256,np.newaxis])\n",
    "pr15_lbp_hist=np.transpose(pr15_lbp_hist[0:256,np.newaxis])\n",
    "pr16_lbp_hist=np.transpose(pr16_lbp_hist[0:256,np.newaxis])\n",
    "pr17_lbp_hist=np.transpose(pr17_lbp_hist[0:256,np.newaxis])\n",
    "pr18_lbp_hist=np.transpose(pr18_lbp_hist[0:256,np.newaxis])\n",
    "pr19_lbp_hist=np.transpose(pr19_lbp_hist[0:256,np.newaxis])\n",
    "pr20_lbp_hist=np.transpose(pr20_lbp_hist[0:256,np.newaxis])\n",
    "pr21_lbp_hist=np.transpose(pr21_lbp_hist[0:256,np.newaxis])\n",
    "pr22_lbp_hist=np.transpose(pr22_lbp_hist[0:256,np.newaxis])\n",
    "pr23_lbp_hist=np.transpose(pr23_lbp_hist[0:256,np.newaxis])\n",
    "pr24_lbp_hist=np.transpose(pr24_lbp_hist[0:256,np.newaxis])\n",
    "pr25_lbp_hist=np.transpose(pr25_lbp_hist[0:256,np.newaxis])\n",
    "pr26_lbp_hist=np.transpose(pr26_lbp_hist[0:256,np.newaxis])\n",
    "pr27_lbp_hist=np.transpose(pr27_lbp_hist[0:256,np.newaxis])\n",
    "pr28_lbp_hist=np.transpose(pr28_lbp_hist[0:256,np.newaxis])\n",
    "pr29_lbp_hist=np.transpose(pr29_lbp_hist[0:256,np.newaxis])\n",
    "pr30_lbp_hist=np.transpose(pr30_lbp_hist[0:256,np.newaxis])\n"
   ]
  },
  {
   "cell_type": "markdown",
   "id": "90c5c0f2",
   "metadata": {},
   "source": [
    "#### ✅ Joining ceplok and parang dataset in one matric"
   ]
  },
  {
   "cell_type": "code",
   "execution_count": 50,
   "id": "8d311146",
   "metadata": {},
   "outputs": [],
   "source": [
    "# data train\n",
    "data_train = np.concatenate((\n",
    "                            cp1_lbp_hist,\n",
    "                            cp2_lbp_hist,\n",
    "                            cp3_lbp_hist,\n",
    "                            cp4_lbp_hist,\n",
    "                            cp5_lbp_hist,\n",
    "                            cp6_lbp_hist,\n",
    "                            cp7_lbp_hist,\n",
    "                            cp8_lbp_hist,\n",
    "                            cp9_lbp_hist,\n",
    "                            cp10_lbp_hist,\n",
    "                            cp11_lbp_hist,\n",
    "                            cp12_lbp_hist,\n",
    "                            cp13_lbp_hist,\n",
    "                            cp14_lbp_hist,\n",
    "                            cp15_lbp_hist,\n",
    "                            cp16_lbp_hist,\n",
    "                            cp17_lbp_hist,\n",
    "                            cp18_lbp_hist,\n",
    "                            cp19_lbp_hist,\n",
    "                            cp20_lbp_hist,\n",
    "                            cp21_lbp_hist,\n",
    "                            cp22_lbp_hist,\n",
    "                            cp23_lbp_hist,\n",
    "                            cp24_lbp_hist,\n",
    "                            cp25_lbp_hist,\n",
    "                            cp26_lbp_hist,\n",
    "                            cp27_lbp_hist,\n",
    "                            cp28_lbp_hist,\n",
    "                            cp29_lbp_hist,\n",
    "                            cp30_lbp_hist,\n",
    "                            pr1_lbp_hist,\n",
    "                            pr2_lbp_hist,\n",
    "                            pr3_lbp_hist,\n",
    "                            pr4_lbp_hist,\n",
    "                            pr5_lbp_hist,\n",
    "                            pr6_lbp_hist,\n",
    "                            pr7_lbp_hist,\n",
    "                            pr8_lbp_hist,\n",
    "                            pr9_lbp_hist,\n",
    "                            pr10_lbp_hist,\n",
    "                            pr11_lbp_hist,\n",
    "                            pr12_lbp_hist,\n",
    "                            pr13_lbp_hist,\n",
    "                            pr14_lbp_hist,\n",
    "                            pr15_lbp_hist,\n",
    "                            pr16_lbp_hist,\n",
    "                            pr17_lbp_hist,\n",
    "                            pr18_lbp_hist,\n",
    "                            pr19_lbp_hist,\n",
    "                            pr20_lbp_hist,\n",
    "                            pr21_lbp_hist,\n",
    "                            pr22_lbp_hist,\n",
    "                            pr23_lbp_hist,\n",
    "                            pr24_lbp_hist,\n",
    "                            pr25_lbp_hist,\n",
    "                            pr26_lbp_hist,\n",
    "                            pr27_lbp_hist,\n",
    "                            pr28_lbp_hist,\n",
    "                            pr29_lbp_hist,\n",
    "                            pr30_lbp_hist\n",
    "                            ), axis=0).astype(np.float32)"
   ]
  },
  {
   "cell_type": "markdown",
   "id": "9e05d82b",
   "metadata": {},
   "source": [
    "#### ✅ Label for data train"
   ]
  },
  {
   "cell_type": "code",
   "execution_count": 51,
   "id": "7e2635f5",
   "metadata": {},
   "outputs": [],
   "source": [
    "from sklearn import preprocessing\n",
    "\n",
    "# label for dataset\n",
    "label = [\"Batik Ceplok\",\"Batik Ceplok\",\"Batik Ceplok\",\"Batik Ceplok\",\"Batik Ceplok\",\t\n",
    "\t\"Batik Ceplok\",\"Batik Ceplok\",\"Batik Ceplok\",\"Batik Ceplok\",\"Batik Ceplok\",\n",
    "\t\"Batik Ceplok\",\"Batik Ceplok\",\"Batik Ceplok\",\"Batik Ceplok\",\"Batik Ceplok\",\n",
    "\t\"Batik Ceplok\",\"Batik Ceplok\",\"Batik Ceplok\",\"Batik Ceplok\",\"Batik Ceplok\",\n",
    "\t\"Batik Ceplok\",\"Batik Ceplok\",\"Batik Ceplok\",\"Batik Ceplok\",\"Batik Ceplok\",\n",
    "\t\"Batik Ceplok\",\"Batik Ceplok\",\"Batik Ceplok\",\"Batik Ceplok\",\"Batik Ceplok\",\n",
    "\t\"Batik Parang\",\"Batik Parang\",\"Batik Parang\",\"Batik Parang\",\"Batik Parang\",\n",
    "\t\"Batik Parang\",\"Batik Parang\",\"Batik Parang\",\"Batik Parang\",\"Batik Parang\",\n",
    "\t\"Batik Parang\",\"Batik Parang\",\"Batik Parang\",\"Batik Parang\",\"Batik Parang\",\n",
    "\t\"Batik Parang\",\"Batik Parang\",\"Batik Parang\",\"Batik Parang\",\"Batik Parang\",\n",
    "\t\"Batik Parang\",\"Batik Parang\",\"Batik Parang\",\"Batik Parang\",\"Batik Parang\",\n",
    "\t\"Batik Parang\",\"Batik Parang\",\"Batik Parang\",\"Batik Parang\",\"Batik Parang\"]\n",
    "\n",
    "lb = preprocessing.LabelBinarizer()\n",
    "y_train = np.array([number[0] for number in lb.fit_transform(label)])"
   ]
  },
  {
   "cell_type": "markdown",
   "id": "1afd4afa",
   "metadata": {},
   "source": [
    "#### ✅ Build KNN model"
   ]
  },
  {
   "cell_type": "code",
   "execution_count": 52,
   "id": "97f64a38",
   "metadata": {},
   "outputs": [
    {
     "name": "stdout",
     "output_type": "stream",
     "text": [
      "K-value = 2 | acc :  0.7833333333333334  - error : 0.15\n",
      "K-value = 3 | acc :  0.7333333333333333  - error : 0.13333333333333333\n",
      "K-value = 4 | acc :  0.7833333333333334  - error : 0.13333333333333333\n",
      "K-value = 5 | acc :  0.7333333333333334  - error : 0.15\n",
      "K-value = 6 | acc :  0.7666666666666667  - error : 0.18333333333333332\n",
      "K-value = 7 | acc :  0.6833333333333333  - error : 0.21666666666666667\n",
      "K-value = 8 | acc :  0.7  - error : 0.16666666666666666\n",
      "K-value = 9 | acc :  0.7166666666666667  - error : 0.18333333333333332\n",
      "K-value = 10 | acc :  0.6833333333333333  - error : 0.18333333333333332\n",
      "K-value = 11 | acc :  0.7166666666666667  - error : 0.2\n",
      "K-value = 12 | acc :  0.7000000000000001  - error : 0.2\n",
      "K-value = 13 | acc :  0.7333333333333333  - error : 0.23333333333333334\n",
      "K-value = 14 | acc :  0.7166666666666667  - error : 0.18333333333333332\n",
      "K-value = 15 | acc :  0.7  - error : 0.23333333333333334\n",
      "K-value = 16 | acc :  0.7  - error : 0.2\n",
      "K-value = 17 | acc :  0.6833333333333333  - error : 0.26666666666666666\n",
      "K-value = 18 | acc :  0.6666666666666667  - error : 0.25\n",
      "K-value = 19 | acc :  0.7166666666666667  - error : 0.2833333333333333\n",
      "K-value = 20 | acc :  0.6833333333333333  - error : 0.26666666666666666\n",
      "K-value = 21 | acc :  0.6666666666666667  - error : 0.26666666666666666\n",
      "K-value = 22 | acc :  0.6166666666666667  - error : 0.26666666666666666\n",
      "K-value = 23 | acc :  0.6333333333333334  - error : 0.26666666666666666\n",
      "K-value = 24 | acc :  0.6333333333333334  - error : 0.2833333333333333\n"
     ]
    }
   ],
   "source": [
    "from sklearn.model_selection import cross_val_score\n",
    "from sklearn.metrics import precision_score, recall_score\n",
    "\n",
    "# KNN Modeling\n",
    "error_rate = []\n",
    "acc_rate = []\n",
    "for i in range (2,25):\n",
    "    knn = KNeighborsClassifier(n_neighbors=i)\n",
    "    knn.fit(data_train,y_train)\n",
    "    pred_i = knn.predict(data_train)\n",
    "    error = np.mean(pred_i != y_train)\n",
    "    error_rate.append(error)\n",
    "    \n",
    "    acc_knn = cross_val_score(knn, data_train, y_train, cv=5, scoring='accuracy')\n",
    "    acc_rate.append(acc_knn.mean())\n",
    "    \n",
    "    print('K-value =', i, '| acc : ', acc_knn.mean(), ' - error :', error)"
   ]
  },
  {
   "cell_type": "code",
   "execution_count": 53,
   "id": "2101da2f",
   "metadata": {},
   "outputs": [
    {
     "name": "stdout",
     "output_type": "stream",
     "text": [
      "Accuracy result using KNN :  0.7833333333333334\n",
      "Precision result using KNN :  0.8866666666666667\n",
      "Recall result using KNN :  0.6666666666666666\n",
      "Error rate result using SVM :  0.13333333333333333\n"
     ]
    }
   ],
   "source": [
    "# Fix model of KNN\n",
    "model_knn = KNeighborsClassifier(n_neighbors=4)\n",
    "model_knn.fit(data_train,y_train)\n",
    "\n",
    "acc_model_knn = cross_val_score(model_knn, data_train, y_train, cv=5, scoring='accuracy')\n",
    "prec_knn = cross_val_score(model_knn, data_train, y_train, cv=5, scoring='precision')\n",
    "recall_knn = cross_val_score(model_knn, data_train, y_train, cv=5, scoring='recall')\n",
    "\n",
    "print(\"Accuracy result using KNN : \", acc_model_knn.mean())\n",
    "print('Precision result using KNN : ', prec_knn.mean())\n",
    "print('Recall result using KNN : ', recall_knn.mean())\n",
    "\n",
    "pred_i = model_knn.predict(data_train)\n",
    "error_rate_knn = np.mean(pred_i != y_train)\n",
    "print(\"Error rate result using SVM : \", error_rate_knn.mean())"
   ]
  },
  {
   "cell_type": "code",
   "execution_count": 54,
   "id": "d0be0ddd",
   "metadata": {},
   "outputs": [
    {
     "data": {
      "text/plain": [
       "Text(0, 0.5, 'Accuracy Rate')"
      ]
     },
     "execution_count": 54,
     "metadata": {},
     "output_type": "execute_result"
    },
    {
     "data": {
      "image/png": "[encoded data removed]",
      "text/plain": [
       "<Figure size 720x432 with 1 Axes>"
      ]
     },
     "metadata": {
      "needs_background": "light"
     },
     "output_type": "display_data"
    }
   ],
   "source": [
    "# visualizing accuracy rate\n",
    "\n",
    "plt.figure(figsize=(10,6))\n",
    "plt.plot(range(1,24), acc_rate, color='blue', linestyle='dashed',marker='o', markerfacecolor='red', markersize=10)\n",
    "plt.title('Accuracy Rate vs. K Value')\n",
    "plt.xlabel('K-Value')\n",
    "plt.ylabel('Accuracy Rate')"
   ]
  },
  {
   "cell_type": "code",
   "execution_count": 55,
   "id": "9f892352",
   "metadata": {},
   "outputs": [
    {
     "data": {
      "text/plain": [
       "Text(0, 0.5, 'Error Rate')"
      ]
     },
     "execution_count": 55,
     "metadata": {},
     "output_type": "execute_result"
    },
    {
     "data": {
      "image/png": "[encoded data removed]",
      "text/plain": [
       "<Figure size 720x432 with 1 Axes>"
      ]
     },
     "metadata": {
      "needs_background": "light"
     },
     "output_type": "display_data"
    }
   ],
   "source": [
    "# visualizing error rate\n",
    "\n",
    "plt.figure(figsize=(10,6))\n",
    "plt.plot(range(1,24), error_rate, color='blue', linestyle='dashed',marker='o', markerfacecolor='red', markersize=10)\n",
    "plt.title('Error Rate vs. K Value')\n",
    "plt.xlabel('K-Value')\n",
    "plt.ylabel('Error Rate')"
   ]
  },
  {
   "cell_type": "markdown",
   "id": "4acdebb9",
   "metadata": {},
   "source": [
    "#### ✅ Build SVM model"
   ]
  },
  {
   "cell_type": "code",
   "execution_count": 57,
   "id": "fba1fb55",
   "metadata": {},
   "outputs": [
    {
     "name": "stdout",
     "output_type": "stream",
     "text": [
      "Accuracy result using SVM :  0.7666666666666667\n",
      "Precision result using SVM :  0.7666666666666667\n",
      "Recall result using SVM :  0.8666666666666668\n",
      "Error rate result using SVM :  0.05\n"
     ]
    }
   ],
   "source": [
    "from sklearn.svm import SVC\n",
    "\n",
    "model_svc = SVC(kernel='linear', C=1)\n",
    "model_svc.fit(data_train, y_train)\n",
    "\n",
    "acc_svc = cross_val_score(model_svc, data_train, y_train, cv=5, scoring='accuracy')\n",
    "prec_svc = cross_val_score(model_svc, data_train, y_train, cv=5, scoring='precision')\n",
    "recall_svc = cross_val_score(model_svc, data_train, y_train, cv=5, scoring='recall')\n",
    "\n",
    "print(\"Accuracy result using SVM : \", acc_svc.mean())\n",
    "print('Precision result using SVM : ', prec_svc.mean())\n",
    "print('Recall result using SVM : ', recall_svc.mean())\n",
    "\n",
    "pred_i = model_svc.predict(data_train)\n",
    "error_rate_svc = np.mean(pred_i != y_train)\n",
    "print(\"Error rate result using SVM : \", error_rate_svc.mean())"
   ]
  },
  {
   "cell_type": "markdown",
   "id": "c814bdb5",
   "metadata": {},
   "source": [
    "#### ✅ Build Naive Bayes model"
   ]
  },
  {
   "cell_type": "code",
   "execution_count": 58,
   "id": "f19e5013",
   "metadata": {},
   "outputs": [
    {
     "name": "stdout",
     "output_type": "stream",
     "text": [
      "Accuracy result using Naive Bayes :  0.7833333333333332\n",
      "Precision result using Naive Bayes :  0.8\n",
      "Recall result using Naive Bayes :  0.8\n",
      "Error rate result using Naive Bayes :  0.2\n"
     ]
    }
   ],
   "source": [
    "model_nb = MultinomialNB()\n",
    "\n",
    "acc_nb = cross_val_score(model_nb, data_train, y_train, cv=5, scoring='accuracy')\n",
    "prec_nb = cross_val_score(model_nb, data_train, y_train, cv=5, scoring='precision')\n",
    "recall_nb = cross_val_score(model_nb, data_train, y_train, cv=5, scoring='recall')\n",
    "model_nb.fit(data_train, y_train)\n",
    "\n",
    "print(\"Accuracy result using Naive Bayes : \", acc_nb.mean())\n",
    "print('Precision result using Naive Bayes : ', prec_nb.mean())\n",
    "print('Recall result using Naive Bayes : ', recall_nb.mean())\n",
    "\n",
    "pred_i = model_nb.predict(data_train)\n",
    "error_rate_nb = np.mean(pred_i != y_train)\n",
    "print(\"Error rate result using Naive Bayes : \", error_rate_nb.mean())"
   ]
  },
  {
   "cell_type": "markdown",
   "id": "fd2ee35b",
   "metadata": {},
   "source": [
    "#### ✅ Detection testing"
   ]
  },
  {
   "cell_type": "code",
   "execution_count": 59,
   "id": "441dddd4",
   "metadata": {},
   "outputs": [
    {
     "name": "stdout",
     "output_type": "stream",
     "text": [
      "Detection KNN result :  [0]\n",
      "Detection SVM result :  [0]\n",
      "Detection Naive Bayes result :  [1]\n"
     ]
    }
   ],
   "source": [
    "gambar = cv.imread(\"dataset/testing/parang_style/parang5.jpg\", cv.IMREAD_GRAYSCALE)\n",
    "\n",
    "x = getdataTest(gambar)\n",
    "knn_pred = model_knn.predict(x)\n",
    "svm_pred = model_svc.predict(x)\n",
    "nb_pred = model_nb.predict(x)\n",
    "\n",
    "print(\"Detection KNN result : \", knn_pred)\n",
    "print(\"Detection SVM result : \", svm_pred)\n",
    "print(\"Detection Naive Bayes result : \", nb_pred)\n",
    "\n",
    "cv.namedWindow('Identified image', cv.WINDOW_NORMAL)\n",
    "cv.imshow('Identified image' , gambar)\n",
    "cv.waitKey(0)\n",
    "cv.destroyAllWindows()"
   ]
  },
  {
   "cell_type": "markdown",
   "id": "40bd13d5",
   "metadata": {},
   "source": [
    "#### ✅ Model extraction"
   ]
  },
  {
   "cell_type": "code",
   "execution_count": 60,
   "id": "87426590",
   "metadata": {},
   "outputs": [],
   "source": [
    "import pickle\n",
    "\n",
    "# KNN Model\n",
    "pickle.dump(model_knn, open('./model/knn.pkl', 'wb'))\n",
    "\n",
    "# SVC Model\n",
    "pickle.dump(model_svc, open('./model/svc.pkl', 'wb'))\n",
    "\n",
    "# Naive Bayes Model\n",
    "pickle.dump(model_nb, open('./model/nb.pkl', 'wb'))"
   ]
  }
 ],
 "metadata": {
  "interpreter": {
   "hash": "1cca9558bc5ad879ec93cc030b157d75f18267527c60932cecaace349eef54dd"
  },
  "kernelspec": {
   "display_name": "Python 3.9.7 ('base')",
   "language": "python",
   "name": "python3"
  },
  "language_info": {
   "codemirror_mode": {
    "name": "ipython",
    "version": 3
   },
   "file_extension": ".py",
   "mimetype": "text/x-python",
   "name": "python",
   "nbconvert_exporter": "python",
   "pygments_lexer": "ipython3",
   "version": "3.9.7 (default, Sep 16 2021, 16:59:28) [MSC v.1916 64 bit (AMD64)]"
  }
 },
 "nbformat": 4,
 "nbformat_minor": 5
}
