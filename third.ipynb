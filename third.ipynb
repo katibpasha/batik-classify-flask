{
 "cells": [
  {
   "cell_type": "code",
   "execution_count": 4,
   "metadata": {},
   "outputs": [
    {
     "data": {
      "text/plain": [
       "(1, 256)"
      ]
     },
     "execution_count": 4,
     "metadata": {},
     "output_type": "execute_result"
    }
   ],
   "source": [
    "import pandas as pd\n",
    "import numpy as np\n",
    "import cv2 as cv\n",
    "from skimage.feature import local_binary_pattern\n",
    "\n",
    "radius = 2\n",
    "n_points = 8 * radius\n",
    "METHOD = 'uniform'\n",
    "\n",
    "# make function of LBP   \n",
    "\n",
    "path = './static/uploads/SC012.jpg'\n",
    "img = cv.imread(path, cv.IMREAD_GRAYSCALE)\n",
    "\n",
    "img_lbp = local_binary_pattern(img, n_points, radius, METHOD)\n",
    "img_lbp_hist,bins = np.histogram(img_lbp.ravel(),256,[0,256])\n",
    "img_lbp_hist = np.transpose(img_lbp_hist[0:256,np.newaxis])\n",
    "\n",
    "img_lbp_hist.shape"
   ]
  },
  {
   "cell_type": "code",
   "execution_count": null,
   "metadata": {},
   "outputs": [],
   "source": [
    "from sklearn.model_selection import cross_val_score\n",
    "\n",
    "acc_score = cross_val_score(model, data_train, label, cv=5, scoring='accuracy')\n",
    "prec_score = cross_val_score(model, data_train, label, cv=5, scoring='precision')\n",
    "recall_score = cross_val_score(model, data_train, label, cv=5, scoring='recall')\n",
    "pred_i = model.predict(data_train)\n",
    "error_rate = np.mean(pred_i != label)\n",
    "\n",
    "print('accuracy using model x : ', acc_score.mean())\n",
    "print('precision using model x : ', prec_score.mean())\n",
    "print('recall using model x : ', recall_score.mean())\n",
    "print('error rate result using model x : ', error_rate.mean())"
   ]
  }
 ],
 "metadata": {
  "kernelspec": {
   "display_name": "Python 3.9.7 ('base')",
   "language": "python",
   "name": "python3"
  },
  "language_info": {
   "codemirror_mode": {
    "name": "ipython",
    "version": 3
   },
   "file_extension": ".py",
   "mimetype": "text/x-python",
   "name": "python",
   "nbconvert_exporter": "python",
   "pygments_lexer": "ipython3",
   "version": "3.9.7"
  },
  "orig_nbformat": 4,
  "vscode": {
   "interpreter": {
    "hash": "1cca9558bc5ad879ec93cc030b157d75f18267527c60932cecaace349eef54dd"
   }
  }
 },
 "nbformat": 4,
 "nbformat_minor": 2
}
