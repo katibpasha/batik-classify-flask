{
 "cells": [
  {
   "cell_type": "code",
   "execution_count": null,
   "metadata": {},
   "outputs": [],
   "source": [
    "import matplotlib.pyplot as plt\n",
    "from sklearn.neighbors import KNeighborsClassifier\n",
    "from sklearn.model_selection import cross_val_score\n",
    "\n",
    "# KNN Modeling\n",
    "error_rate = []\n",
    "acc_rate = []\n",
    "for i in range (2,25):\n",
    "    knn = KNeighborsClassifier(n_neighbors=i)\n",
    "    knn.fit(data_train, label)\n",
    "    pred_i = knn.predict(data_train)\n",
    "    error_rate.append(np.mean(pred_i != label))\n",
    "    \n",
    "    acc_knn = cross_val_score(knn, data_train, label, cv=5, scoring='accuracy')\n",
    "    acc_rate.append(acc_knn.mean())\n"
   ]
  },
  {
   "cell_type": "code",
   "execution_count": null,
   "metadata": {},
   "outputs": [],
   "source": [
    "from sklearn.svm import SVC\n",
    "from sklearn.model_selection import cross_val_score\n",
    "\n",
    "svc = SVC(kernel='linear', C=1)\n",
    "svc.fit(data_train, label)\n",
    "\n",
    "acc_svc = cross_val_score(svc, data_train, label, cv=5, scoring='accuracy')\n",
    "print(\"Accuracy result using SVM : \", acc_svc.mean())\n",
    "\n",
    "pred_i = svc.predict(data_train)\n",
    "error_rate_svc = np.mean(pred_i != label)\n",
    "print(\"Error rate result using SVM : \", error_rate_svc.mean())"
   ]
  },
  {
   "cell_type": "code",
   "execution_count": null,
   "metadata": {},
   "outputs": [],
   "source": [
    "from sklearn.naive_bayes import MultinomialNB\n",
    "from sklearn.model_selection import cross_val_score\n",
    "\n",
    "nb = MultinomialNB()\n",
    "\n",
    "acc_nb = cross_val_score(nb, data_train, label, cv=5, scoring='accuracy')\n",
    "nb.fit(data_train, label)\n",
    "\n",
    "print(\"Accuracy result using Naive Bayes : \", acc_svc.mean())\n",
    "\n",
    "pred_i = nb.predict(data_train)\n",
    "error_rate_nb = np.mean(pred_i != label)\n",
    "print(\"Error rate result using Naive Bayes : \", error_rate_nb.mean())"
   ]
  }
 ],
 "metadata": {
  "kernelspec": {
   "display_name": "Python 3.9.7 ('base')",
   "language": "python",
   "name": "python3"
  },
  "language_info": {
   "name": "python",
   "version": "3.9.7"
  },
  "orig_nbformat": 4,
  "vscode": {
   "interpreter": {
    "hash": "1cca9558bc5ad879ec93cc030b157d75f18267527c60932cecaace349eef54dd"
   }
  }
 },
 "nbformat": 4,
 "nbformat_minor": 2
}
